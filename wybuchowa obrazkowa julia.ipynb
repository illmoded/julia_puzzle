{
 "cells": [
  {
   "cell_type": "code",
   "execution_count": 1,
   "metadata": {
    "collapsed": false
   },
   "outputs": [
    {
     "data": {
      "text/plain": [
       "check_install (generic function with 1 method)"
      ]
     },
     "execution_count": 1,
     "metadata": {},
     "output_type": "execute_result"
    }
   ],
   "source": [
    "function check_install(function_name)\n",
    "    println(\"sprawdzam!!!!!!!\")\n",
    "    if ((Pkg.installed(function_name))!= nothing)\n",
    "        @printf(\"%s juz zainstalowany!!!!!!!!!!!\\n\",function_name)\n",
    "  else\n",
    "    print(\"bede instalowala!!!!!!!\")\n",
    "    Pkg.add(function_name)      \n",
    "  end\n",
    "end"
   ]
  },
  {
   "cell_type": "code",
   "execution_count": 8,
   "metadata": {
    "collapsed": false
   },
   "outputs": [
    {
     "name": "stdout",
     "output_type": "stream",
     "text": [
      "cokolwiek!!!!!sprawdzam!!!!!!!\n",
      "Images juz zainstalowany!!!!!!!!!!!\n",
      "sprawdzam!!!!!!!\n",
      "DataFrames juz zainstalowany!!!!!!!!!!!\n",
      "sprawdzam!!!!!!!\n",
      "ImageView juz zainstalowany!!!!!!!!!!!\n",
      "sprawdzam!!!!!!!\n",
      "Tk juz zainstalowany!!!!!!!!!!!\n",
      "sprawdzam!!!!!!!\n",
      "Colors juz zainstalowany!!!!!!!!!!!\n",
      "sprawdzam!!!!!!!\n",
      "FixedPointNumbers juz zainstalowany!!!!!!!!!!!\n",
      "sprawdzam!!!!!!!\n",
      "TestImages juz zainstalowany!!!!!!!!!!!\n"
     ]
    }
   ],
   "source": [
    "print(\"cokolwiek!!!!!\")\n",
    "potrzebne_pakiety = [\"Images\", \"DataFrames\", \"ImageView\", \"Tk\", \"Colors\", \"FixedPointNumbers\",\"TestImages\"]\n",
    "map(check_install,potrzebne_pakiety);\n",
    "\n",
    "using Images, DataFrames, ImageView, Tk"
   ]
  },
  {
   "cell_type": "code",
   "execution_count": 3,
   "metadata": {
    "collapsed": false
   },
   "outputs": [],
   "source": [
    "img = load(\"image.jpg\");"
   ]
  },
  {
   "cell_type": "code",
   "execution_count": 4,
   "metadata": {
    "collapsed": false,
    "scrolled": true
   },
   "outputs": [
    {
     "data": {
      "text/plain": [
       "swap_lr (generic function with 1 method)"
      ]
     },
     "execution_count": 4,
     "metadata": {},
     "output_type": "execute_result"
    }
   ],
   "source": [
    "# funkcje są pisane w losowej kolejności :)\n",
    "function custom_canvasgrid(image_array,split::Int64)\n",
    "    #     wyświetla siatkę małych obrazków\n",
    "    c = canvasgrid(w=680,h=800,split,split)\n",
    "    #     w i h trzeba ręcznie ustawiać w zależności od wysokości paska tytułowego w systemie\n",
    "    ops = Dict(:pixelspacing => [1,1])\n",
    "    for i in 1:split\n",
    "        for j in 1:split\n",
    "            ImageView.view(c[i,j], image_array[i,j]; ops...)\n",
    "        end\n",
    "    end\n",
    "end\n",
    "\n",
    "function cc2(c,image_array,split::Int64)\n",
    "    #     wyświetla siatkę małych obrazków\n",
    "    \n",
    "    #     w i h trzeba ręcznie ustawiać w zależności od wysokości paska tytułowego w systemie\n",
    "    ops = Dict(:pixelspacing => [1,1])\n",
    "    for i in 1:split\n",
    "        for j in 1:split\n",
    "            ImageView.view(c[i,j], image_array[i,j]; ops...)\n",
    "        end\n",
    "    end\n",
    "end\n",
    "\n",
    "function split_image(image,split::Int64)\n",
    "    #     rozbija duży obraz na [split x split] mniejszych (wymaga kwadratów, chyba)\n",
    "    image=rotr90(image)\n",
    "    im_width,im_height= size(image)\n",
    "    split_width = div(im_width,split)\n",
    "    split_height = div(im_height,split)\n",
    "\n",
    "    image_matrix = []\n",
    "    for j in 1:split\n",
    "        for i in 1:split\n",
    "\n",
    "            sqs=image[1+(i-1)*split_width:i*split_width,1+(j-1)*split_height:j*split_height]\n",
    "            \n",
    "#             println(1+(i-1)*split_width:i*split_width)\n",
    "#             println(1+(j-1)*split_height:j*split_height)\n",
    "#             println( )\n",
    "            \n",
    "            push!(image_matrix,sqs)\n",
    "        end        \n",
    "    end\n",
    "    im2 = reshape(image_matrix,split,split)\n",
    "    return im2\n",
    "end\n",
    "\n",
    "function make_square(image, split::Int64)\n",
    "    #     obcina obrazek do kwadratu, modulo parametru split\n",
    "    im_width,im_height= size(image)\n",
    "    min_dim = min(im_width, im_height)\n",
    "    while min_dim > 0\n",
    "        if min_dim % split ==0\n",
    "            print(min_dim)\n",
    "            return image[1:min_dim,1:min_dim]\n",
    "        else\n",
    "            min_dim-=1\n",
    "        end\n",
    "    end\n",
    "end\n",
    "\n",
    "function random_rotate(image)\n",
    "    #     obraca o losową wielokrotność kąta prostego\n",
    "    return rotl90(image,round(Int64,rand()*4))\n",
    "end\n",
    "\n",
    "function rand_imlist_rot(imlist)\n",
    "    #   obraca podmacierze w macierzy ;P\n",
    "    width,height = size(imlist)\n",
    "    for i in 1:width\n",
    "        for j in 1:height\n",
    "            imlist[i,j]=random_rotate(imlist[i,j])\n",
    "        end\n",
    "    end\n",
    "    return imlist\n",
    "end\n",
    "\n",
    "function black_window(image)\n",
    "    #     po prostu generuje czarny kwadrat\n",
    "    width,height = size(image)\n",
    "    black = Colors.RGB{FixedPointNumbers.UFixed8}(0.,0.,0.);\n",
    "    black_win = fill(black,width,height)\n",
    "    return black_win\n",
    "end\n",
    "\n",
    "function mix_array(X)\n",
    "    #     zamienia losowo pozycje elementów w macierzy\n",
    "    w,h = size(X)\n",
    "    for i in 1:10e5\n",
    "        idx1=rand(1:w)\n",
    "        idx2=rand(1:h)\n",
    "        idx3=rand(1:w)\n",
    "        idx4=rand(1:h)\n",
    "        for k = 1:size(X,1)\n",
    "            for l = 1:size(X,1)\n",
    "                X[idx1,idx2],X[k,l] = X[k,l],X[idx1,idx2]\n",
    "            end\n",
    "        end\n",
    "    end\n",
    "    return X\n",
    "end\n",
    "\n",
    "function swap_ud(X,iw,ih)\n",
    "    #     zamienia elementy sąsiadujące w pionie z wybranym elementem macierzy\n",
    "    w,h = size(X)\n",
    "    if iw+1<=w && iw-1>=1\n",
    "        X[iw+1,ih],X[iw-1,ih] = X[iw-1,ih],X[iw+1,ih]\n",
    "    end\n",
    "    return X\n",
    "end\n",
    "\n",
    "function swap_lr(X,iw,ih)\n",
    "    #     zamienia elementy sąsiadujące w poziomie z wybranym elementem macierzy\n",
    "    w,h = size(X)\n",
    "    if ih+1<=h && ih-1>=1\n",
    "        X[iw,ih+1],X[iw,ih-1] = X[iw,ih-1],X[iw,ih-1]\n",
    "    end\n",
    "    return X\n",
    "end"
   ]
  },
  {
   "cell_type": "code",
   "execution_count": 167,
   "metadata": {
    "collapsed": false
   },
   "outputs": [
    {
     "data": {
      "text/plain": [
       "swap (generic function with 1 method)"
      ]
     },
     "execution_count": 167,
     "metadata": {},
     "output_type": "execute_result"
    }
   ],
   "source": [
    "function mix(a2)\n",
    "    a2=mix_array(a2)\n",
    "#     a2=rand_imlist_rot(a2)\n",
    "    return a2\n",
    "end\n",
    "\n",
    "function findxy(array,el)\n",
    "    w = collect(zip(ind2sub(size(array),find( x -> x == el, array ))...))[1]\n",
    "    w[1],w[2]\n",
    "end\n",
    "\n",
    "# function reset(matrix,base_matrix)\n",
    "#     matrix=base_matrix\n",
    "# end\n",
    "\n",
    "# function swap_black(c,matrix,current,black,split)\n",
    "#     current, black = black, current\n",
    "#     cc2(c,matrix,split)\n",
    "# end\n",
    "\n",
    "function swap(matrix,x1,y1,x2,y2)\n",
    "    matrix[x1,y1],matrix[x2,y2]=matrix[x2,y2],matrix[x1,y1]\n",
    "    return matrix    \n",
    "end"
   ]
  },
  {
   "cell_type": "code",
   "execution_count": 165,
   "metadata": {
    "collapsed": false
   },
   "outputs": [
    {
     "data": {
      "text/plain": [
       "move_right (generic function with 1 method)"
      ]
     },
     "execution_count": 165,
     "metadata": {},
     "output_type": "execute_result"
    }
   ],
   "source": [
    "function move_up(matrix,bl)\n",
    "    w,h = size(matrix)\n",
    "    println(size(matrix))\n",
    "    yb,xb = findxy(matrix,bl)\n",
    "    if yb <= h && yb > 1\n",
    "        return swap(matrix,yb-1,xb,yb,xb)\n",
    "    else\n",
    "        return matrix\n",
    "    end\n",
    "end\n",
    "\n",
    "function move_down(matrix,bl)\n",
    "    w,h = size(matrix)\n",
    "    println(size(matrix))\n",
    "    yb,xb = findxy(matrix,bl)\n",
    "    if yb < h && yb >= 1\n",
    "        return swap(matrix,yb+1,xb,yb,xb)\n",
    "    else\n",
    "        return matrix\n",
    "    end\n",
    "end\n",
    "\n",
    "function move_left(matrix,bl)\n",
    "    w,h = size(matrix)\n",
    "    println(size(matrix))\n",
    "    yb,xb = findxy(matrix,bl)\n",
    "    if xb <= w && xb > 1\n",
    "        return swap(matrix,yb,xb-1,yb,xb)\n",
    "    else\n",
    "        return matrix\n",
    "    end\n",
    "end\n",
    "\n",
    "function move_right(matrix,bl)\n",
    "    w,h = size(matrix)\n",
    "    println(size(matrix))\n",
    "    yb,xb = findxy(matrix,bl)\n",
    "    if xb < w && xb >= 1\n",
    "        return swap(matrix,yb,xb+1,yb,xb)\n",
    "    else\n",
    "        return matrix\n",
    "    end\n",
    "end"
   ]
  },
  {
   "cell_type": "code",
   "execution_count": 196,
   "metadata": {
    "collapsed": false
   },
   "outputs": [
    {
     "data": {
      "text/plain": [
       "check (generic function with 1 method)"
      ]
     },
     "execution_count": 196,
     "metadata": {},
     "output_type": "execute_result"
    }
   ],
   "source": [
    "function check(m1,m2)\n",
    "    if a2 == a2a\n",
    "        Messagebox(w, title=\"Gra\", message=\"OK\") \n",
    "    else\n",
    "        Messagebox(w, title=\"Gra\", message=\"NO\") \n",
    "    end\n",
    "end"
   ]
  },
  {
   "cell_type": "code",
   "execution_count": 199,
   "metadata": {
    "collapsed": false
   },
   "outputs": [
    {
     "name": "stdout",
     "output_type": "stream",
     "text": [
      "375"
     ]
    },
    {
     "data": {
      "text/plain": [
       "\"\""
      ]
     },
     "execution_count": 199,
     "metadata": {},
     "output_type": "execute_result"
    }
   ],
   "source": [
    "split = 3\n",
    "\n",
    "a1=make_square(img,split);\n",
    "a2=split_image(a1,split);\n",
    "# a3=mix_array(a2);\n",
    "\n",
    "a2a=split_image(a1,split);\n",
    "\n",
    "c = canvasgrid(w=680,h=800,split,split)\n",
    "\n",
    "curr_x = split;\n",
    "curr_y = split;\n",
    "\n",
    "curr= a2[curr_x,curr_y]\n",
    "black = a2[split,split]=black_window(curr)\n",
    "\n",
    "a2a[split,split]=black\n",
    "\n",
    "cc2(c,a2,split)\n",
    "\n",
    "\n",
    "w = Toplevel(\"YOLO & ROSINSKY's puzzle\")                                    \n",
    "f = Frame(w, padding = [3,3,2,2], relief=\"groove\")         \n",
    "pack(f, expand = true, fill = \"both\")                      \n",
    "#\n",
    "b_mix = Button(f, \"reset\")                       \n",
    "b_reset = Button(f, \"show\")\n",
    "\n",
    "b_check = Button(f,\"check\")\n",
    "\n",
    "bu=Button(f, \"up\")                       \n",
    "bd=Button(f, \"down\")                       \n",
    "bl=Button(f, \"left\")                       \n",
    "br=Button(f, \"right\")     \n",
    "\n",
    "# b_black = Button(f, \"black\")\n",
    "\n",
    "grid(b_mix, 1, 1)                                            \n",
    "grid(b_reset,1, 2)\n",
    "grid(b_check,1, 3)\n",
    "\n",
    "grid(bu, 3, 3)                                            \n",
    "grid(bd, 5, 3)\n",
    "grid(bl, 4, 2)                                            \n",
    "grid(br, 4, 4)\n",
    "\n",
    "# grid(b_black,4,3)\n",
    "\n",
    "#\n",
    "callback_mix(path) = mix(a2),cc2(c,a2,split)\n",
    "bind(b_mix, \"command\", callback_mix)                 \n",
    "bind(b_mix, \"<Return>\", callback_mix)    \n",
    "\n",
    "callback_check(path) = check(a2,a2a)\n",
    "bind(b_check, \"command\", callback_check)                 \n",
    "bind(b_check, \"<Return>\", callback_check)          \n",
    "#\n",
    "\n",
    "callback_reset(path) = cc2(c,a2a,split),sleep(1),cc2(c,a2,split)\n",
    "bind(b_reset, \"command\", callback_reset)                            \n",
    "bind(b_reset, \"<Return>\", callback_reset)       \n",
    "\n",
    "callback_up(path) = move_up(a2,black),cc2(c,a2,split), increment(moves)\n",
    "bind(bu, \"command\", callback_up)                            \n",
    "bind(bu, \"<Return>\", callback_up)\n",
    "\n",
    "callback_down(path) = move_down(a2,black),cc2(c,a2,split),increment(moves)\n",
    "bind(bd, \"command\", callback_down)                            \n",
    "bind(bd, \"<Return>\", callback_down)\n",
    "\n",
    "callback_right(path) = move_right(a2,black),cc2(c,a2,split), increment(moves)\n",
    "bind(br, \"command\", callback_right)                            \n",
    "bind(br, \"<Return>\", callback_right)\n",
    "\n",
    "callback_left(path) = move_left(a2,black),cc2(c,a2,split),increment(moves)\n",
    "bind(bl, \"command\", callback_left)                            \n",
    "bind(bl, \"<Return>\", callback_left)\n",
    "\n",
    "\n",
    "# callback_black(path) = swap_black(c,a2,curr,bl,split)\n",
    "# bind(b_black, \"command\", callback_black)                 \n",
    "# bind(b_black, \"<Return>\", callback_black)                           \n"
   ]
  },
  {
   "cell_type": "code",
   "execution_count": null,
   "metadata": {
    "collapsed": true
   },
   "outputs": [],
   "source": []
  },
  {
   "cell_type": "code",
   "execution_count": null,
   "metadata": {
    "collapsed": true
   },
   "outputs": [],
   "source": []
  }
 ],
 "metadata": {
  "kernelspec": {
   "display_name": "Julia 0.4.5",
   "language": "julia",
   "name": "julia-0.4"
  },
  "language_info": {
   "file_extension": ".jl",
   "mimetype": "application/julia",
   "name": "julia",
   "version": "0.4.6"
  }
 },
 "nbformat": 4,
 "nbformat_minor": 0
}
